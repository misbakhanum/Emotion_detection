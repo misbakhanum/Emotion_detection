{
  "nbformat": 4,
  "nbformat_minor": 0,
  "metadata": {
    "colab": {
      "provenance": [],
      "authorship_tag": "ABX9TyPyBIcDVBUewKeCxAUgsRS3",
      "include_colab_link": true
    },
    "kernelspec": {
      "name": "python3",
      "display_name": "Python 3"
    },
    "language_info": {
      "name": "python"
    }
  },
  "cells": [
    {
      "cell_type": "markdown",
      "metadata": {
        "id": "view-in-github",
        "colab_type": "text"
      },
      "source": [
        "<a href=\"https://colab.research.google.com/github/misbakhanum/Emotion_detection/blob/main/emotion.ipynb\" target=\"_parent\"><img src=\"https://colab.research.google.com/assets/colab-badge.svg\" alt=\"Open In Colab\"/></a>"
      ]
    },
    {
      "cell_type": "code",
      "execution_count": 1,
      "metadata": {
        "colab": {
          "base_uri": "https://localhost:8080/",
          "height": 73
        },
        "id": "lZYP34XwZBDU",
        "outputId": "673501b7-9b31-4c12-8479-406e8d9b97db"
      },
      "outputs": [
        {
          "output_type": "display_data",
          "data": {
            "text/plain": [
              "<IPython.core.display.HTML object>"
            ],
            "text/html": [
              "\n",
              "     <input type=\"file\" id=\"files-235d9f50-e017-4f65-8d21-d263711e8a56\" name=\"files[]\" multiple disabled\n",
              "        style=\"border:none\" />\n",
              "     <output id=\"result-235d9f50-e017-4f65-8d21-d263711e8a56\">\n",
              "      Upload widget is only available when the cell has been executed in the\n",
              "      current browser session. Please rerun this cell to enable.\n",
              "      </output>\n",
              "      <script>// Copyright 2017 Google LLC\n",
              "//\n",
              "// Licensed under the Apache License, Version 2.0 (the \"License\");\n",
              "// you may not use this file except in compliance with the License.\n",
              "// You may obtain a copy of the License at\n",
              "//\n",
              "//      http://www.apache.org/licenses/LICENSE-2.0\n",
              "//\n",
              "// Unless required by applicable law or agreed to in writing, software\n",
              "// distributed under the License is distributed on an \"AS IS\" BASIS,\n",
              "// WITHOUT WARRANTIES OR CONDITIONS OF ANY KIND, either express or implied.\n",
              "// See the License for the specific language governing permissions and\n",
              "// limitations under the License.\n",
              "\n",
              "/**\n",
              " * @fileoverview Helpers for google.colab Python module.\n",
              " */\n",
              "(function(scope) {\n",
              "function span(text, styleAttributes = {}) {\n",
              "  const element = document.createElement('span');\n",
              "  element.textContent = text;\n",
              "  for (const key of Object.keys(styleAttributes)) {\n",
              "    element.style[key] = styleAttributes[key];\n",
              "  }\n",
              "  return element;\n",
              "}\n",
              "\n",
              "// Max number of bytes which will be uploaded at a time.\n",
              "const MAX_PAYLOAD_SIZE = 100 * 1024;\n",
              "\n",
              "function _uploadFiles(inputId, outputId) {\n",
              "  const steps = uploadFilesStep(inputId, outputId);\n",
              "  const outputElement = document.getElementById(outputId);\n",
              "  // Cache steps on the outputElement to make it available for the next call\n",
              "  // to uploadFilesContinue from Python.\n",
              "  outputElement.steps = steps;\n",
              "\n",
              "  return _uploadFilesContinue(outputId);\n",
              "}\n",
              "\n",
              "// This is roughly an async generator (not supported in the browser yet),\n",
              "// where there are multiple asynchronous steps and the Python side is going\n",
              "// to poll for completion of each step.\n",
              "// This uses a Promise to block the python side on completion of each step,\n",
              "// then passes the result of the previous step as the input to the next step.\n",
              "function _uploadFilesContinue(outputId) {\n",
              "  const outputElement = document.getElementById(outputId);\n",
              "  const steps = outputElement.steps;\n",
              "\n",
              "  const next = steps.next(outputElement.lastPromiseValue);\n",
              "  return Promise.resolve(next.value.promise).then((value) => {\n",
              "    // Cache the last promise value to make it available to the next\n",
              "    // step of the generator.\n",
              "    outputElement.lastPromiseValue = value;\n",
              "    return next.value.response;\n",
              "  });\n",
              "}\n",
              "\n",
              "/**\n",
              " * Generator function which is called between each async step of the upload\n",
              " * process.\n",
              " * @param {string} inputId Element ID of the input file picker element.\n",
              " * @param {string} outputId Element ID of the output display.\n",
              " * @return {!Iterable<!Object>} Iterable of next steps.\n",
              " */\n",
              "function* uploadFilesStep(inputId, outputId) {\n",
              "  const inputElement = document.getElementById(inputId);\n",
              "  inputElement.disabled = false;\n",
              "\n",
              "  const outputElement = document.getElementById(outputId);\n",
              "  outputElement.innerHTML = '';\n",
              "\n",
              "  const pickedPromise = new Promise((resolve) => {\n",
              "    inputElement.addEventListener('change', (e) => {\n",
              "      resolve(e.target.files);\n",
              "    });\n",
              "  });\n",
              "\n",
              "  const cancel = document.createElement('button');\n",
              "  inputElement.parentElement.appendChild(cancel);\n",
              "  cancel.textContent = 'Cancel upload';\n",
              "  const cancelPromise = new Promise((resolve) => {\n",
              "    cancel.onclick = () => {\n",
              "      resolve(null);\n",
              "    };\n",
              "  });\n",
              "\n",
              "  // Wait for the user to pick the files.\n",
              "  const files = yield {\n",
              "    promise: Promise.race([pickedPromise, cancelPromise]),\n",
              "    response: {\n",
              "      action: 'starting',\n",
              "    }\n",
              "  };\n",
              "\n",
              "  cancel.remove();\n",
              "\n",
              "  // Disable the input element since further picks are not allowed.\n",
              "  inputElement.disabled = true;\n",
              "\n",
              "  if (!files) {\n",
              "    return {\n",
              "      response: {\n",
              "        action: 'complete',\n",
              "      }\n",
              "    };\n",
              "  }\n",
              "\n",
              "  for (const file of files) {\n",
              "    const li = document.createElement('li');\n",
              "    li.append(span(file.name, {fontWeight: 'bold'}));\n",
              "    li.append(span(\n",
              "        `(${file.type || 'n/a'}) - ${file.size} bytes, ` +\n",
              "        `last modified: ${\n",
              "            file.lastModifiedDate ? file.lastModifiedDate.toLocaleDateString() :\n",
              "                                    'n/a'} - `));\n",
              "    const percent = span('0% done');\n",
              "    li.appendChild(percent);\n",
              "\n",
              "    outputElement.appendChild(li);\n",
              "\n",
              "    const fileDataPromise = new Promise((resolve) => {\n",
              "      const reader = new FileReader();\n",
              "      reader.onload = (e) => {\n",
              "        resolve(e.target.result);\n",
              "      };\n",
              "      reader.readAsArrayBuffer(file);\n",
              "    });\n",
              "    // Wait for the data to be ready.\n",
              "    let fileData = yield {\n",
              "      promise: fileDataPromise,\n",
              "      response: {\n",
              "        action: 'continue',\n",
              "      }\n",
              "    };\n",
              "\n",
              "    // Use a chunked sending to avoid message size limits. See b/62115660.\n",
              "    let position = 0;\n",
              "    do {\n",
              "      const length = Math.min(fileData.byteLength - position, MAX_PAYLOAD_SIZE);\n",
              "      const chunk = new Uint8Array(fileData, position, length);\n",
              "      position += length;\n",
              "\n",
              "      const base64 = btoa(String.fromCharCode.apply(null, chunk));\n",
              "      yield {\n",
              "        response: {\n",
              "          action: 'append',\n",
              "          file: file.name,\n",
              "          data: base64,\n",
              "        },\n",
              "      };\n",
              "\n",
              "      let percentDone = fileData.byteLength === 0 ?\n",
              "          100 :\n",
              "          Math.round((position / fileData.byteLength) * 100);\n",
              "      percent.textContent = `${percentDone}% done`;\n",
              "\n",
              "    } while (position < fileData.byteLength);\n",
              "  }\n",
              "\n",
              "  // All done.\n",
              "  yield {\n",
              "    response: {\n",
              "      action: 'complete',\n",
              "    }\n",
              "  };\n",
              "}\n",
              "\n",
              "scope.google = scope.google || {};\n",
              "scope.google.colab = scope.google.colab || {};\n",
              "scope.google.colab._files = {\n",
              "  _uploadFiles,\n",
              "  _uploadFilesContinue,\n",
              "};\n",
              "})(self);\n",
              "</script> "
            ]
          },
          "metadata": {}
        },
        {
          "output_type": "stream",
          "name": "stdout",
          "text": [
            "Saving speech..zip to speech..zip\n"
          ]
        }
      ],
      "source": [
        "from google.colab import files\n",
        "uploaded = files.upload()"
      ]
    },
    {
      "cell_type": "code",
      "source": [
        "import zipfile\n",
        "import os\n",
        "\n",
        "# Path to the uploaded file (replace 'your_file.zip' with the actual file name)\n",
        "zip_file = '/content/speech..zip'\n",
        "\n",
        "# Specify the directory where you want to extract the files\n",
        "extract_dir = '/content/my'\n",
        "\n",
        "# Create the directory if it doesn't exist\n",
        "os.makedirs(extract_dir, exist_ok=True)\n",
        "\n",
        "# Extract the ZIP file\n",
        "with zipfile.ZipFile(zip_file, 'r') as zip_ref:\n",
        "    zip_ref.extractall(extract_dir)\n",
        "\n",
        "# List the extracted files\n",
        "extracted_files = os.listdir(extract_dir)\n",
        "print('Extracted files:', extracted_files)\n"
      ],
      "metadata": {
        "colab": {
          "base_uri": "https://localhost:8080/"
        },
        "id": "jzthv48-ZDdt",
        "outputId": "c5b08da7-ddf0-4775-cd99-6173339c12ad"
      },
      "execution_count": 8,
      "outputs": [
        {
          "output_type": "stream",
          "name": "stdout",
          "text": [
            "Extracted files: ['speech']\n"
          ]
        }
      ]
    },
    {
      "cell_type": "code",
      "source": [
        "import numpy as np\n",
        "import os\n",
        "import glob\n",
        "import pickle\n",
        "from sklearn.model_selection import train_test_split\n",
        "from sklearn.ensemble import RandomForestClassifier\n",
        "from sklearn.metrics import accuracy_score\n",
        "from sklearn.preprocessing import LabelEncoder\n",
        "import librosa\n",
        "import soundfile\n",
        "\n",
        "# Emotions in the RAVDESS dataset\n",
        "emotions = {\n",
        "    '01': 'neutral', '02': 'calm', '03': 'happy', '04': 'sad', '05': 'angry',\n",
        "    '06': 'fearful', '07': 'disgust', '08': 'surprised'\n",
        "}\n",
        "\n",
        "# Emotions to observe\n",
        "observed_emotions = ['calm', 'happy', 'fearful', 'disgust']\n",
        "\n",
        "# Function to extract features from an audio file\n",
        "def extract_feature(file_name, mfcc=True, chroma=True, mel=True):\n",
        "    with soundfile.SoundFile(file_name) as sound_file:\n",
        "        X = sound_file.read(dtype=\"float32\")\n",
        "        sample_rate = sound_file.samplerate\n",
        "\n",
        "        result = np.array([])\n",
        "\n",
        "        if chroma or mel:\n",
        "            stft = np.abs(librosa.stft(X))\n",
        "\n",
        "        if mfcc:\n",
        "            mfccs = np.mean(librosa.feature.mfcc(y=X, sr=sample_rate, n_mfcc=40).T, axis=0)\n",
        "            result = np.hstack((result, mfccs))\n",
        "\n",
        "        if chroma:\n",
        "            chroma_features = np.mean(librosa.feature.chroma_stft(S=stft, sr=sample_rate).T, axis=0)\n",
        "            result = np.hstack((result, chroma_features))\n",
        "\n",
        "        if mel:\n",
        "            mel_features = np.mean(librosa.feature.melspectrogram(y=X, sr=sample_rate).T, axis=0)\n",
        "            result = np.hstack((result, mel_features))\n",
        "\n",
        "    return result\n"
      ],
      "metadata": {
        "id": "B25hYmsUZq8w"
      },
      "execution_count": 9,
      "outputs": []
    },
    {
      "cell_type": "code",
      "source": [
        "# Load the data and extract features for each sound file\n",
        "def load_data(test_size=0.2):\n",
        "    x, y = [], []\n",
        "\n",
        "    # Path to the dataset folder (update this path if needed)\n",
        "    dataset_path = \"/content/my/speech/Actor_22\"\n",
        "\n",
        "    # Loop through each .wav file\n",
        "    for file in glob.glob(os.path.join(dataset_path, \"*.wav\")):\n",
        "        file_name = os.path.basename(file)\n",
        "\n",
        "        # Extract the emotion from the file name (assumes format like 'Actor-01-01-01-01.wav')\n",
        "        emotion_code = file_name.split(\"-\")[2]  # Adjust if your filenames have a different structure\n",
        "\n",
        "        # Get the emotion from the code\n",
        "        emotion = emotions.get(emotion_code, None)\n",
        "        if emotion is None:\n",
        "            continue  # Skip files that don't match the expected emotion code\n",
        "\n",
        "        # Only consider certain emotions\n",
        "        if emotion not in observed_emotions:\n",
        "            continue\n",
        "\n",
        "        # Extract features\n",
        "        feature = extract_feature(file)\n",
        "        x.append(feature)\n",
        "        y.append(emotion)\n",
        "\n",
        "    # Split the dataset into train and test\n",
        "    return train_test_split(np.array(x), y, test_size=test_size, random_state=9)\n",
        "\n",
        "# Split the dataset into train and test sets\n",
        "x_train, x_test, y_train, y_test = load_data(test_size=0.25)\n",
        "\n",
        "# Print the number of samples in train and test sets\n",
        "print(f\"Training set size: {len(x_train)}\")\n",
        "print(f\"Test set size: {len(x_test)}\")\n"
      ],
      "metadata": {
        "colab": {
          "base_uri": "https://localhost:8080/"
        },
        "id": "FR-zkpheaCu4",
        "outputId": "ec40bc53-d85f-4576-8452-8b8acdb92f75"
      },
      "execution_count": 10,
      "outputs": [
        {
          "output_type": "stream",
          "name": "stdout",
          "text": [
            "Training set size: 24\n",
            "Test set size: 8\n"
          ]
        }
      ]
    },
    {
      "cell_type": "code",
      "source": [
        "# Encode the labels\n",
        "encoder = LabelEncoder()\n",
        "y_train_encoded = encoder.fit_transform(y_train)\n",
        "y_test_encoded = encoder.transform(y_test)\n",
        "\n",
        "# Train a RandomForestClassifier\n",
        "model = RandomForestClassifier(n_estimators=100, random_state=42)\n",
        "model.fit(x_train, y_train_encoded)\n",
        "\n",
        "# Predict on the test set (using the encoded test labels)\n",
        "y_pred_encoded = model.predict(x_test)\n",
        "\n",
        "# Calculate accuracy\n",
        "accuracy = accuracy_score(y_test_encoded, y_pred_encoded)\n",
        "print(f\"Model accuracy: {accuracy * 100:.2f}%\")\n",
        "\n",
        "# Save the trained model as 'modelForPrediction1.sav'\n",
        "model_filename = 'modelForPrediction1.sav'\n",
        "with open(model_filename, 'wb') as model_file:\n",
        "    pickle.dump(model, model_file)\n",
        "print(f\"Model saved as {model_filename}\")\n",
        "\n",
        "# Calculate the F1 Score for different classes (use encoded labels)\n",
        "f1 = f1_score(y_test_encoded, y_pred_encoded, average=None)\n",
        "print(\"F1 Score for each class:\", f1)\n",
        "\n",
        "# Convert the predicted labels back to original labels using encoder\n",
        "y_pred = encoder.inverse_transform(y_pred_encoded)\n",
        "y_test_decoded = encoder.inverse_transform(y_test_encoded)\n",
        "\n",
        "# Create a Pandas DataFrame with Actual and Predicted labels\n",
        "import pandas as pd\n",
        "df = pd.DataFrame({'Actual': y_test_decoded, 'Predicted': y_pred})\n",
        "\n",
        "# Display the first 20 rows of the DataFrame\n",
        "print(df.head(20))\n"
      ],
      "metadata": {
        "colab": {
          "base_uri": "https://localhost:8080/"
        },
        "id": "1LRwtjd2aFfd",
        "outputId": "393a3389-5ef4-42d7-988b-d5bc91436b46"
      },
      "execution_count": 26,
      "outputs": [
        {
          "output_type": "stream",
          "name": "stdout",
          "text": [
            "Model accuracy: 75.00%\n",
            "Model saved as modelForPrediction1.sav\n",
            "F1 Score for each class: [1.         0.5        0.66666667]\n",
            "    Actual Predicted\n",
            "0     calm      calm\n",
            "1  fearful     happy\n",
            "2  fearful   fearful\n",
            "3    happy     happy\n",
            "4     calm      calm\n",
            "5     calm      calm\n",
            "6  fearful     happy\n",
            "7    happy     happy\n"
          ]
        }
      ]
    },
    {
      "cell_type": "code",
      "source": [
        "x_train"
      ],
      "metadata": {
        "colab": {
          "base_uri": "https://localhost:8080/"
        },
        "id": "BR63DU9Mcw4Y",
        "outputId": "15905cfb-021b-4052-e43b-6fc5c562fc43"
      },
      "execution_count": 27,
      "outputs": [
        {
          "output_type": "execute_result",
          "data": {
            "text/plain": [
              "array([[-5.60218872e+02,  3.61590576e+01, -1.05001612e+01, ...,\n",
              "         7.41095719e-05,  6.96825664e-05,  2.71470999e-05],\n",
              "       [-6.92916199e+02,  3.84976234e+01,  4.37359333e+00, ...,\n",
              "         1.28995480e-05,  8.91466152e-06,  5.99452414e-06],\n",
              "       [-6.34491638e+02,  4.20777969e+01, -8.21499729e+00, ...,\n",
              "         7.87678655e-05,  3.30158000e-05,  3.87367327e-05],\n",
              "       ...,\n",
              "       [-6.58869690e+02,  4.60602150e+01, -3.26962924e+00, ...,\n",
              "         3.69369409e-05,  2.88143656e-05,  2.11176666e-05],\n",
              "       [-5.51950928e+02,  2.73531380e+01, -1.98856792e+01, ...,\n",
              "         2.99765874e-04,  1.54527312e-04,  7.70317492e-05],\n",
              "       [-5.35934204e+02,  3.13018532e+01, -1.84415741e+01, ...,\n",
              "         1.90475781e-04,  1.63476987e-04,  6.51773225e-05]])"
            ]
          },
          "metadata": {},
          "execution_count": 27
        }
      ]
    },
    {
      "cell_type": "code",
      "source": [
        "print((x_train.shape[0], x_test.shape[0]))"
      ],
      "metadata": {
        "colab": {
          "base_uri": "https://localhost:8080/"
        },
        "id": "snZ9Y_DKdPw1",
        "outputId": "70c39a04-cc28-4b0d-c05c-50cebc4ee8c2"
      },
      "execution_count": 28,
      "outputs": [
        {
          "output_type": "stream",
          "name": "stdout",
          "text": [
            "(24, 8)\n"
          ]
        }
      ]
    },
    {
      "cell_type": "code",
      "source": [
        "print(f'Features extracted: {x_train.shape[1]}')"
      ],
      "metadata": {
        "colab": {
          "base_uri": "https://localhost:8080/"
        },
        "id": "2odNVHWMdU0-",
        "outputId": "6f13f0c4-1f27-4123-df6a-b48f24842208"
      },
      "execution_count": 29,
      "outputs": [
        {
          "output_type": "stream",
          "name": "stdout",
          "text": [
            "Features extracted: 180\n"
          ]
        }
      ]
    },
    {
      "cell_type": "code",
      "source": [
        "y_pred=model.predict(x_test)\n",
        "y_pred"
      ],
      "metadata": {
        "colab": {
          "base_uri": "https://localhost:8080/"
        },
        "id": "navHsbiedarQ",
        "outputId": "d928ce47-dbde-4f07-e582-5bd882a2d818"
      },
      "execution_count": 30,
      "outputs": [
        {
          "output_type": "execute_result",
          "data": {
            "text/plain": [
              "array([0, 3, 2, 3, 0, 0, 3, 3])"
            ]
          },
          "metadata": {},
          "execution_count": 30
        }
      ]
    },
    {
      "cell_type": "code",
      "source": [
        "import os\n",
        "\n",
        "directory = \"/content/my/speech/Actor_22\"\n",
        "files = os.listdir(directory)\n",
        "print(\"Files in directory:\", files)"
      ],
      "metadata": {
        "colab": {
          "base_uri": "https://localhost:8080/"
        },
        "id": "VU3k6sEFfJss",
        "outputId": "af89be65-227e-4784-e76f-595498faca3f"
      },
      "execution_count": 34,
      "outputs": [
        {
          "output_type": "stream",
          "name": "stdout",
          "text": [
            "Files in directory: ['03-01-06-02-01-01-22.wav', '03-01-03-01-02-01-22.wav', '03-01-04-02-01-02-22.wav', '03-01-07-01-02-01-22.wav', '03-01-03-02-01-02-22.wav', '03-01-02-02-01-01-22.wav', '03-01-02-01-01-02-22.wav', '03-01-07-02-02-02-22.wav', '03-01-06-01-01-01-22.wav', '03-01-05-02-01-02-22.wav', '03-01-04-01-01-02-22.wav', '03-01-08-01-02-01-22.wav', '03-01-04-01-02-01-22.wav', '03-01-06-02-01-02-22.wav', '03-01-06-02-02-01-22.wav', '03-01-03-02-02-01-22.wav', '03-01-05-01-02-02-22.wav', '03-01-08-01-01-01-22.wav', '03-01-02-01-02-02-22.wav', '03-01-08-02-02-02-22.wav', '03-01-08-02-01-01-22.wav', '03-01-02-01-02-01-22.wav', '03-01-05-02-01-01-22.wav', '03-01-03-01-01-02-22.wav', '03-01-08-02-01-02-22.wav', '03-01-02-02-02-01-22.wav', '03-01-03-02-01-01-22.wav', '03-01-07-02-01-02-22.wav', '03-01-03-01-01-01-22.wav', '03-01-05-01-02-01-22.wav', '03-01-05-02-02-02-22.wav', '03-01-04-01-02-02-22.wav', '03-01-04-01-01-01-22.wav', '03-01-01-01-01-01-22.wav', '03-01-04-02-02-01-22.wav', '03-01-08-02-02-01-22.wav', '03-01-03-01-02-02-22.wav', '03-01-06-01-01-02-22.wav', '03-01-07-01-01-02-22.wav', '03-01-05-02-02-01-22.wav', '03-01-02-02-02-02-22.wav', '03-01-08-01-01-02-22.wav', '03-01-02-02-01-02-22.wav', '03-01-02-01-01-01-22.wav', '03-01-05-01-01-01-22.wav', '03-01-05-01-01-02-22.wav', '03-01-04-02-01-01-22.wav', '03-01-07-01-02-02-22.wav', '03-01-03-02-02-02-22.wav', '03-01-04-02-02-02-22.wav', '03-01-07-02-02-01-22.wav', '03-01-01-01-02-02-22.wav', '03-01-06-01-02-02-22.wav', '03-01-01-01-02-01-22.wav', '03-01-06-01-02-01-22.wav', '03-01-06-02-02-02-22.wav', '03-01-08-01-02-02-22.wav', '03-01-07-02-01-01-22.wav', '03-01-07-01-01-01-22.wav', '03-01-01-01-01-02-22.wav']\n"
          ]
        }
      ]
    },
    {
      "cell_type": "code",
      "source": [
        "import pickle\n",
        "import numpy as np\n",
        "import os\n",
        "import glob\n",
        "\n",
        "# Load the pre-trained model from the file\n",
        "filename = 'modelForPrediction1.sav'\n",
        "loaded_model = pickle.load(open(filename, 'rb'))\n",
        "\n",
        "# Path to the folder containing audio files\n",
        "folder_path = \"/content/my/speech/Actor_22\"\n",
        "\n",
        "# Iterate through all .wav files in the folder\n",
        "for audio_file_path in glob.glob(os.path.join(folder_path, \"*.wav\")):\n",
        "    try:\n",
        "        # Extract features from the audio file\n",
        "        feature = extract_feature(audio_file_path, mfcc=True, chroma=True, mel=True)\n",
        "\n",
        "        # Reshape the feature array for prediction\n",
        "        feature = feature.reshape(1, -1)\n",
        "\n",
        "        # Make a prediction using the loaded model\n",
        "        prediction = loaded_model.predict(feature)\n",
        "        print(f\"File: {os.path.basename(audio_file_path)} - Predicted emotion: {prediction[0]}\")\n",
        "\n",
        "    except Exception as e:\n",
        "        print(f\"An error occurred with file {audio_file_path}: {e}\")"
      ],
      "metadata": {
        "colab": {
          "base_uri": "https://localhost:8080/"
        },
        "id": "DUZHka-4fXM9",
        "outputId": "c080612f-9544-4e78-b3a5-b281eeaafaeb"
      },
      "execution_count": 35,
      "outputs": [
        {
          "output_type": "stream",
          "name": "stdout",
          "text": [
            "File: 03-01-06-02-01-01-22.wav - Predicted emotion: 2\n",
            "File: 03-01-03-01-02-01-22.wav - Predicted emotion: 3\n",
            "File: 03-01-04-02-01-02-22.wav - Predicted emotion: 3\n",
            "File: 03-01-07-01-02-01-22.wav - Predicted emotion: 1\n",
            "File: 03-01-03-02-01-02-22.wav - Predicted emotion: 3\n",
            "File: 03-01-02-02-01-01-22.wav - Predicted emotion: 0\n",
            "File: 03-01-02-01-01-02-22.wav - Predicted emotion: 0\n",
            "File: 03-01-07-02-02-02-22.wav - Predicted emotion: 1\n",
            "File: 03-01-06-01-01-01-22.wav - Predicted emotion: 3\n",
            "File: 03-01-05-02-01-02-22.wav - Predicted emotion: 3\n",
            "File: 03-01-04-01-01-02-22.wav - Predicted emotion: 0\n",
            "File: 03-01-08-01-02-01-22.wav - Predicted emotion: 2\n",
            "File: 03-01-04-01-02-01-22.wav - Predicted emotion: 0\n",
            "File: 03-01-06-02-01-02-22.wav - Predicted emotion: 2\n",
            "File: 03-01-06-02-02-01-22.wav - Predicted emotion: 2\n",
            "File: 03-01-03-02-02-01-22.wav - Predicted emotion: 3\n",
            "File: 03-01-05-01-02-02-22.wav - Predicted emotion: 1\n",
            "File: 03-01-08-01-01-01-22.wav - Predicted emotion: 1\n",
            "File: 03-01-02-01-02-02-22.wav - Predicted emotion: 0\n",
            "File: 03-01-08-02-02-02-22.wav - Predicted emotion: 3\n",
            "File: 03-01-08-02-01-01-22.wav - Predicted emotion: 3\n",
            "File: 03-01-02-01-02-01-22.wav - Predicted emotion: 0\n",
            "File: 03-01-05-02-01-01-22.wav - Predicted emotion: 3\n",
            "File: 03-01-03-01-01-02-22.wav - Predicted emotion: 3\n",
            "File: 03-01-08-02-01-02-22.wav - Predicted emotion: 3\n",
            "File: 03-01-02-02-02-01-22.wav - Predicted emotion: 0\n",
            "File: 03-01-03-02-01-01-22.wav - Predicted emotion: 3\n",
            "File: 03-01-07-02-01-02-22.wav - Predicted emotion: 1\n",
            "File: 03-01-03-01-01-01-22.wav - Predicted emotion: 3\n",
            "File: 03-01-05-01-02-01-22.wav - Predicted emotion: 3\n",
            "File: 03-01-05-02-02-02-22.wav - Predicted emotion: 3\n",
            "File: 03-01-04-01-02-02-22.wav - Predicted emotion: 0\n",
            "File: 03-01-04-01-01-01-22.wav - Predicted emotion: 0\n",
            "File: 03-01-01-01-01-01-22.wav - Predicted emotion: 0\n",
            "File: 03-01-04-02-02-01-22.wav - Predicted emotion: 0\n",
            "File: 03-01-08-02-02-01-22.wav - Predicted emotion: 3\n",
            "File: 03-01-03-01-02-02-22.wav - Predicted emotion: 3\n",
            "File: 03-01-06-01-01-02-22.wav - Predicted emotion: 3\n",
            "File: 03-01-07-01-01-02-22.wav - Predicted emotion: 1\n",
            "File: 03-01-05-02-02-01-22.wav - Predicted emotion: 2\n",
            "File: 03-01-02-02-02-02-22.wav - Predicted emotion: 0\n",
            "File: 03-01-08-01-01-02-22.wav - Predicted emotion: 1\n",
            "File: 03-01-02-02-01-02-22.wav - Predicted emotion: 0\n",
            "File: 03-01-02-01-01-01-22.wav - Predicted emotion: 0\n",
            "File: 03-01-05-01-01-01-22.wav - Predicted emotion: 1\n",
            "File: 03-01-05-01-01-02-22.wav - Predicted emotion: 1\n",
            "File: 03-01-04-02-01-01-22.wav - Predicted emotion: 0\n",
            "File: 03-01-07-01-02-02-22.wav - Predicted emotion: 1\n",
            "File: 03-01-03-02-02-02-22.wav - Predicted emotion: 3\n",
            "File: 03-01-04-02-02-02-22.wav - Predicted emotion: 3\n",
            "File: 03-01-07-02-02-01-22.wav - Predicted emotion: 1\n",
            "File: 03-01-01-01-02-02-22.wav - Predicted emotion: 0\n",
            "File: 03-01-06-01-02-02-22.wav - Predicted emotion: 2\n",
            "File: 03-01-01-01-02-01-22.wav - Predicted emotion: 0\n",
            "File: 03-01-06-01-02-01-22.wav - Predicted emotion: 2\n",
            "File: 03-01-06-02-02-02-22.wav - Predicted emotion: 2\n",
            "File: 03-01-08-01-02-02-22.wav - Predicted emotion: 2\n",
            "File: 03-01-07-02-01-01-22.wav - Predicted emotion: 1\n",
            "File: 03-01-07-01-01-01-22.wav - Predicted emotion: 1\n",
            "File: 03-01-01-01-01-02-22.wav - Predicted emotion: 0\n"
          ]
        }
      ]
    },
    {
      "cell_type": "code",
      "source": [
        "# Save the trained model as 'modelForPrediction1.sav'\n",
        "model_filename = 'modelForPrediction1.sav'\n",
        "with open(model_filename, 'wb') as model_file:\n",
        "    pickle.dump(model, model_file)\n",
        "print(f\"Model saved as {model_filename}\")\n",
        "\n",
        "# Save the LabelEncoder as 'label_encoder.sav'\n",
        "encoder_filename = 'label_encoder.sav'\n",
        "with open(encoder_filename, 'wb') as encoder_file:\n",
        "    pickle.dump(encoder, encoder_file)\n",
        "print(f\"Label Encoder saved as {encoder_filename}\")"
      ],
      "metadata": {
        "colab": {
          "base_uri": "https://localhost:8080/"
        },
        "id": "sX891yBMfaym",
        "outputId": "902eeb57-811a-4b2b-e20a-32bd0504e018"
      },
      "execution_count": 36,
      "outputs": [
        {
          "output_type": "stream",
          "name": "stdout",
          "text": [
            "Model saved as modelForPrediction1.sav\n",
            "Label Encoder saved as label_encoder.sav\n"
          ]
        }
      ]
    },
    {
      "cell_type": "code",
      "source": [
        "# Load the pre-trained model and LabelEncoder\n",
        "model_filename = 'modelForPrediction1.sav'\n",
        "encoder_filename = 'label_encoder.sav'\n",
        "\n",
        "# Load the model\n",
        "try:\n",
        "    with open(model_filename, 'rb') as model_file:\n",
        "        loaded_model = pickle.load(model_file)\n",
        "    print(f\"Model loaded successfully from {model_filename}\")\n",
        "except FileNotFoundError:\n",
        "    print(f\"Error: Model file {model_filename} not found.\")\n",
        "    loaded_model = None\n",
        "\n",
        "# Load the LabelEncoder\n",
        "try:\n",
        "    with open(encoder_filename, 'rb') as encoder_file:\n",
        "        loaded_encoder = pickle.load(encoder_file)\n",
        "    print(f\"Label Encoder loaded successfully from {encoder_filename}\")\n",
        "except FileNotFoundError:\n",
        "    print(f\"Error: Encoder file {encoder_filename} not found.\")\n",
        "    loaded_encoder = None\n",
        "\n",
        "# Check if both model and encoder are loaded successfully\n",
        "if loaded_model is None or loaded_encoder is None:\n",
        "    print(\"Cannot proceed without both model and label encoder.\")\n",
        "else:\n",
        "    # Path to the folder containing new audio files for prediction\n",
        "    folder_path = \"/content/my/speech/Actor_22\"\n",
        "\n",
        "    # Iterate through all .wav files in the folder\n",
        "    for audio_file_path in glob.glob(os.path.join(folder_path, \"*.wav\")):\n",
        "        try:\n",
        "            # Extract features from the audio file\n",
        "            feature = extract_feature(audio_file_path, mfcc=True, chroma=True, mel=True)\n",
        "\n",
        "            # Check if feature extraction was successful\n",
        "            if feature is not None:\n",
        "                # Reshape the feature array for prediction\n",
        "                feature = feature.reshape(1, -1)\n",
        "\n",
        "                # Make a prediction using the loaded model\n",
        "                prediction = loaded_model.predict(feature)\n",
        "\n",
        "                # Convert numeric prediction to human-readable emotion\n",
        "                emotion = loaded_encoder.inverse_transform(prediction)\n",
        "\n",
        "                # Output the file path and predicted emotion\n",
        "                print(f\"{audio_file_path}: [{emotion[0]}]\")\n",
        "            else:\n",
        "                print(f\"Feature extraction failed for {audio_file_path}. Skipping file.\")\n",
        "        except Exception as e:\n",
        "            print(f\"Error processing {audio_file_path}: {e}\")"
      ],
      "metadata": {
        "colab": {
          "base_uri": "https://localhost:8080/"
        },
        "id": "uCAuXR9ufr3E",
        "outputId": "975c825f-0e33-4b39-d777-6eb8633da468"
      },
      "execution_count": 38,
      "outputs": [
        {
          "output_type": "stream",
          "name": "stdout",
          "text": [
            "Model loaded successfully from modelForPrediction1.sav\n",
            "Label Encoder loaded successfully from label_encoder.sav\n",
            "/content/my/speech/Actor_22/03-01-06-02-01-01-22.wav: [fearful]\n",
            "/content/my/speech/Actor_22/03-01-03-01-02-01-22.wav: [happy]\n",
            "/content/my/speech/Actor_22/03-01-04-02-01-02-22.wav: [happy]\n",
            "/content/my/speech/Actor_22/03-01-07-01-02-01-22.wav: [disgust]\n",
            "/content/my/speech/Actor_22/03-01-03-02-01-02-22.wav: [happy]\n",
            "/content/my/speech/Actor_22/03-01-02-02-01-01-22.wav: [calm]\n",
            "/content/my/speech/Actor_22/03-01-02-01-01-02-22.wav: [calm]\n",
            "/content/my/speech/Actor_22/03-01-07-02-02-02-22.wav: [disgust]\n",
            "/content/my/speech/Actor_22/03-01-06-01-01-01-22.wav: [happy]\n",
            "/content/my/speech/Actor_22/03-01-05-02-01-02-22.wav: [happy]\n",
            "/content/my/speech/Actor_22/03-01-04-01-01-02-22.wav: [calm]\n",
            "/content/my/speech/Actor_22/03-01-08-01-02-01-22.wav: [fearful]\n",
            "/content/my/speech/Actor_22/03-01-04-01-02-01-22.wav: [calm]\n",
            "/content/my/speech/Actor_22/03-01-06-02-01-02-22.wav: [fearful]\n",
            "/content/my/speech/Actor_22/03-01-06-02-02-01-22.wav: [fearful]\n",
            "/content/my/speech/Actor_22/03-01-03-02-02-01-22.wav: [happy]\n",
            "/content/my/speech/Actor_22/03-01-05-01-02-02-22.wav: [disgust]\n",
            "/content/my/speech/Actor_22/03-01-08-01-01-01-22.wav: [disgust]\n",
            "/content/my/speech/Actor_22/03-01-02-01-02-02-22.wav: [calm]\n",
            "/content/my/speech/Actor_22/03-01-08-02-02-02-22.wav: [happy]\n",
            "/content/my/speech/Actor_22/03-01-08-02-01-01-22.wav: [happy]\n",
            "/content/my/speech/Actor_22/03-01-02-01-02-01-22.wav: [calm]\n",
            "/content/my/speech/Actor_22/03-01-05-02-01-01-22.wav: [happy]\n",
            "/content/my/speech/Actor_22/03-01-03-01-01-02-22.wav: [happy]\n",
            "/content/my/speech/Actor_22/03-01-08-02-01-02-22.wav: [happy]\n",
            "/content/my/speech/Actor_22/03-01-02-02-02-01-22.wav: [calm]\n",
            "/content/my/speech/Actor_22/03-01-03-02-01-01-22.wav: [happy]\n",
            "/content/my/speech/Actor_22/03-01-07-02-01-02-22.wav: [disgust]\n",
            "/content/my/speech/Actor_22/03-01-03-01-01-01-22.wav: [happy]\n",
            "/content/my/speech/Actor_22/03-01-05-01-02-01-22.wav: [happy]\n",
            "/content/my/speech/Actor_22/03-01-05-02-02-02-22.wav: [happy]\n",
            "/content/my/speech/Actor_22/03-01-04-01-02-02-22.wav: [calm]\n",
            "/content/my/speech/Actor_22/03-01-04-01-01-01-22.wav: [calm]\n",
            "/content/my/speech/Actor_22/03-01-01-01-01-01-22.wav: [calm]\n",
            "/content/my/speech/Actor_22/03-01-04-02-02-01-22.wav: [calm]\n",
            "/content/my/speech/Actor_22/03-01-08-02-02-01-22.wav: [happy]\n",
            "/content/my/speech/Actor_22/03-01-03-01-02-02-22.wav: [happy]\n",
            "/content/my/speech/Actor_22/03-01-06-01-01-02-22.wav: [happy]\n",
            "/content/my/speech/Actor_22/03-01-07-01-01-02-22.wav: [disgust]\n",
            "/content/my/speech/Actor_22/03-01-05-02-02-01-22.wav: [fearful]\n",
            "/content/my/speech/Actor_22/03-01-02-02-02-02-22.wav: [calm]\n",
            "/content/my/speech/Actor_22/03-01-08-01-01-02-22.wav: [disgust]\n",
            "/content/my/speech/Actor_22/03-01-02-02-01-02-22.wav: [calm]\n",
            "/content/my/speech/Actor_22/03-01-02-01-01-01-22.wav: [calm]\n",
            "/content/my/speech/Actor_22/03-01-05-01-01-01-22.wav: [disgust]\n",
            "/content/my/speech/Actor_22/03-01-05-01-01-02-22.wav: [disgust]\n",
            "/content/my/speech/Actor_22/03-01-04-02-01-01-22.wav: [calm]\n",
            "/content/my/speech/Actor_22/03-01-07-01-02-02-22.wav: [disgust]\n",
            "/content/my/speech/Actor_22/03-01-03-02-02-02-22.wav: [happy]\n",
            "/content/my/speech/Actor_22/03-01-04-02-02-02-22.wav: [happy]\n",
            "/content/my/speech/Actor_22/03-01-07-02-02-01-22.wav: [disgust]\n",
            "/content/my/speech/Actor_22/03-01-01-01-02-02-22.wav: [calm]\n",
            "/content/my/speech/Actor_22/03-01-06-01-02-02-22.wav: [fearful]\n",
            "/content/my/speech/Actor_22/03-01-01-01-02-01-22.wav: [calm]\n",
            "/content/my/speech/Actor_22/03-01-06-01-02-01-22.wav: [fearful]\n",
            "/content/my/speech/Actor_22/03-01-06-02-02-02-22.wav: [fearful]\n",
            "/content/my/speech/Actor_22/03-01-08-01-02-02-22.wav: [fearful]\n",
            "/content/my/speech/Actor_22/03-01-07-02-01-01-22.wav: [disgust]\n",
            "/content/my/speech/Actor_22/03-01-07-01-01-01-22.wav: [disgust]\n",
            "/content/my/speech/Actor_22/03-01-01-01-01-02-22.wav: [calm]\n"
          ]
        }
      ]
    }
  ]
}